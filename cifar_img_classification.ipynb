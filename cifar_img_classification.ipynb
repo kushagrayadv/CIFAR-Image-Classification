{
  "nbformat": 4,
  "nbformat_minor": 0,
  "metadata": {
    "colab": {
      "name": "cifar_img_classification.ipynb",
      "version": "0.3.2",
      "provenance": [],
      "collapsed_sections": []
    },
    "kernelspec": {
      "name": "python3",
      "display_name": "Python 3"
    },
    "accelerator": "GPU"
  },
  "cells": [
    {
      "metadata": {
        "id": "JlkXyLi_V_w6",
        "colab_type": "text"
      },
      "cell_type": "markdown",
      "source": [
        "## Get the Data"
      ]
    },
    {
      "metadata": {
        "id": "OCq9LWwb3k7n",
        "colab_type": "code",
        "colab": {
          "base_uri": "https://localhost:8080/",
          "height": 34
        },
        "outputId": "f209fc0b-74dc-4fcb-ce63-578f07f6c793"
      },
      "cell_type": "code",
      "source": [
        "from google.colab import drive\n",
        "drive.mount('/content/gdrive')"
      ],
      "execution_count": 9,
      "outputs": [
        {
          "output_type": "stream",
          "text": [
            "Drive already mounted at /content/gdrive; to attempt to forcibly remount, call drive.mount(\"/content/gdrive\", force_remount=True).\n"
          ],
          "name": "stdout"
        }
      ]
    },
    {
      "metadata": {
        "id": "tja4Sk93cIQi",
        "colab_type": "code",
        "colab": {
          "base_uri": "https://localhost:8080/",
          "height": 34
        },
        "outputId": "7f76dd84-f2e8-49b5-999a-8146f5121c79"
      },
      "cell_type": "code",
      "source": [
        "import numpy as np # linear algebra\n",
        "import pandas as pd # data processing, CSV file I/O (e.g. pd.read_csv)\n",
        "\n",
        "# Input data files are available in the \"../content/gdrive/My Drive/Colab Notebooks\" directory.\n",
        "# For example, running this (by clicking run or pressing Shift+Enter) will list the files in the input directory\n",
        "\n",
        "import os\n",
        "print(os.listdir(\"../content/gdrive/My Drive/Colab Notebooks\"))\n",
        "\n",
        "# Any results you write to the current directory are saved as output."
      ],
      "execution_count": 10,
      "outputs": [
        {
          "output_type": "stream",
          "text": [
            "['cifar_img_classification.ipynb', 'MNIST_data', 'mnist_ classification.ipynb', 'cifar-10-batches-py']\n"
          ],
          "name": "stdout"
        }
      ]
    },
    {
      "metadata": {
        "id": "kNfgttQN1eq3",
        "colab_type": "code",
        "colab": {}
      },
      "cell_type": "code",
      "source": [
        "# Put file path as a string here\n",
        "cifar_dir = '../content/gdrive/My Drive/Colab Notebooks/cifar-10-batches-py/'"
      ],
      "execution_count": 0,
      "outputs": []
    },
    {
      "metadata": {
        "id": "sIM5CQzaUJqg",
        "colab_type": "text"
      },
      "cell_type": "markdown",
      "source": [
        "The archive contains the files data_batch_1, data_batch_2, ..., data_batch_5, as well as test_batch. Each of these files is a Python \"pickled\" object produced with cPickle.\n",
        "\n",
        "### Load the Data. Use the Code Below to load the data:"
      ]
    },
    {
      "metadata": {
        "id": "F0JxCUHN4bWW",
        "colab_type": "code",
        "colab": {}
      },
      "cell_type": "code",
      "source": [
        "def unpickle(file):\n",
        "    import pickle\n",
        "    with open(file, 'rb') as fo:\n",
        "        cifar_dict = pickle.load(fo, encoding = 'bytes')\n",
        "    return cifar_dict "
      ],
      "execution_count": 0,
      "outputs": []
    },
    {
      "metadata": {
        "id": "IsOgpHBm4fUY",
        "colab_type": "code",
        "colab": {}
      },
      "cell_type": "code",
      "source": [
        "dirs = ['batches.meta', 'data_batch_1', 'data_batch_2', 'data_batch_3', 'data_batch_4', 'data_batch_5', 'test_batch']"
      ],
      "execution_count": 0,
      "outputs": []
    },
    {
      "metadata": {
        "id": "qEctZCgB4hkn",
        "colab_type": "code",
        "colab": {}
      },
      "cell_type": "code",
      "source": [
        "all_data = [0,1,2,3,4,5,6]"
      ],
      "execution_count": 0,
      "outputs": []
    },
    {
      "metadata": {
        "id": "KC0To9v441dP",
        "colab_type": "code",
        "colab": {}
      },
      "cell_type": "code",
      "source": [
        "for i, direc in zip(all_data, dirs):\n",
        "    all_data[i] = unpickle(cifar_dir + direc)"
      ],
      "execution_count": 0,
      "outputs": []
    },
    {
      "metadata": {
        "id": "KY7JqPjb47S0",
        "colab_type": "code",
        "colab": {}
      },
      "cell_type": "code",
      "source": [
        "batch_meta = all_data[0]\n",
        "batch_1 = all_data[1]\n",
        "batch_2 = all_data[2]\n",
        "batch_3 = all_data[3]\n",
        "batch_4 = all_data[4]\n",
        "batch_5 = all_data[5]\n",
        "batch_test = all_data[6]"
      ],
      "execution_count": 0,
      "outputs": []
    },
    {
      "metadata": {
        "id": "LdxABHQdxegP",
        "colab_type": "code",
        "colab": {
          "base_uri": "https://localhost:8080/",
          "height": 218
        },
        "outputId": "ca19135a-8e8f-44bf-abeb-75b5050977f3"
      },
      "cell_type": "code",
      "source": [
        "batch_meta"
      ],
      "execution_count": 17,
      "outputs": [
        {
          "output_type": "execute_result",
          "data": {
            "text/plain": [
              "{b'label_names': [b'airplane',\n",
              "  b'automobile',\n",
              "  b'bird',\n",
              "  b'cat',\n",
              "  b'deer',\n",
              "  b'dog',\n",
              "  b'frog',\n",
              "  b'horse',\n",
              "  b'ship',\n",
              "  b'truck'],\n",
              " b'num_cases_per_batch': 10000,\n",
              " b'num_vis': 3072}"
            ]
          },
          "metadata": {
            "tags": []
          },
          "execution_count": 17
        }
      ]
    },
    {
      "metadata": {
        "id": "sllptrFeUgm2",
        "colab_type": "text"
      },
      "cell_type": "markdown",
      "source": [
        "**Why the 'b's in front of the string?** Bytes literals are always prefixed with 'b' or 'B'; they produce an instance of the bytes type instead of the str type. They may only contain ASCII characters; bytes with a numeric value of 128 or greater must be expressed with escapes.\n",
        "\n",
        "https://stackoverflow.com/questions/6269765/what-does-the-b-character-do-in-front-of-a-string-literal"
      ]
    },
    {
      "metadata": {
        "id": "SoVKTUu5UtEl",
        "colab_type": "code",
        "colab": {
          "base_uri": "https://localhost:8080/",
          "height": 34
        },
        "outputId": "03f7036b-333a-47fe-9ba5-550444769824"
      },
      "cell_type": "code",
      "source": [
        "batch_1.keys()"
      ],
      "execution_count": 18,
      "outputs": [
        {
          "output_type": "execute_result",
          "data": {
            "text/plain": [
              "dict_keys([b'batch_label', b'labels', b'data', b'filenames'])"
            ]
          },
          "metadata": {
            "tags": []
          },
          "execution_count": 18
        }
      ]
    },
    {
      "metadata": {
        "id": "h6hcrPiFUvrT",
        "colab_type": "text"
      },
      "cell_type": "markdown",
      "source": [
        "Loaded in this way, each of the batch files contains a dictionary with the following elements:\n",
        "\n",
        "*   data -- a 10000x3072 numpy array of uint8s. Each row of the array stores a 32x32 colour image. The first 1024 entries contain the red channel values, the next 1024 the green, and the final 1024 the blue. The image is stored in row-major order, so that the first 32 entries of the array are the red channel values of the first row of the image.\n",
        "*   labels -- a list of 10000 numbers in the range 0-9. The number at index i indicates the label of the ith image in the array data.\n",
        "\n",
        "\n",
        "The dataset contains another file, called batches.meta. It too contains a Python dictionary object. It has the following entries:\n",
        "\n",
        "\n",
        "*   label_names -- a 10-element list which gives meaningful names to the numeric labels in the labels array described above. For example, label_names[0] == \"airplane\", label_names[1] == \"automobile\", etc."
      ]
    },
    {
      "metadata": {
        "id": "KRTBAmGVVqio",
        "colab_type": "text"
      },
      "cell_type": "markdown",
      "source": [
        "### Display single image form the dataset\n",
        "Grab a single image from the batch dataset"
      ]
    },
    {
      "metadata": {
        "id": "JbFY1c6DzT6i",
        "colab_type": "code",
        "colab": {}
      },
      "cell_type": "code",
      "source": [
        "import matplotlib.pyplot as plt\n",
        "%matplotlib inline"
      ],
      "execution_count": 0,
      "outputs": []
    },
    {
      "metadata": {
        "id": "BbEH-vNvz6WK",
        "colab_type": "code",
        "colab": {}
      },
      "cell_type": "code",
      "source": [
        "X = batch_1[b'data'].reshape(10000, 3, 32, 32).transpose(0, 2, 3, 1).astype('uint8')"
      ],
      "execution_count": 0,
      "outputs": []
    },
    {
      "metadata": {
        "id": "6SSZYCSqz6fZ",
        "colab_type": "code",
        "colab": {}
      },
      "cell_type": "code",
      "source": [
        "random_img = X[np.random.randint(0, 10000)]"
      ],
      "execution_count": 0,
      "outputs": []
    },
    {
      "metadata": {
        "id": "qYBuni3d0CSC",
        "colab_type": "code",
        "colab": {
          "base_uri": "https://localhost:8080/",
          "height": 282
        },
        "outputId": "ab24a7fb-3d10-4edc-ebc1-60bdaa5593a8"
      },
      "cell_type": "code",
      "source": [
        "plt.imshow(random_img)"
      ],
      "execution_count": 22,
      "outputs": [
        {
          "output_type": "execute_result",
          "data": {
            "text/plain": [
              "<matplotlib.image.AxesImage at 0x7faaa4a9c550>"
            ]
          },
          "metadata": {
            "tags": []
          },
          "execution_count": 22
        },
        {
          "output_type": "display_data",
          "data": {
            "image/png": "[encoded data removed]",
            "text/plain": [
              "<matplotlib.figure.Figure at 0x7faaa4be5710>"
            ]
          },
          "metadata": {
            "tags": []
          }
        }
      ]
    },
    {
      "metadata": {
        "id": "ERLOAHzY50DQ",
        "colab_type": "text"
      },
      "cell_type": "markdown",
      "source": [
        "## Helper Functions for Dealing With Data"
      ]
    },
    {
      "metadata": {
        "id": "xtrZW5nF5uZr",
        "colab_type": "code",
        "colab": {}
      },
      "cell_type": "code",
      "source": [
        "# function to one-hot encode the labels\n",
        "def one_hot_encode(vec, vals = 10):\n",
        "    n = len(vec)\n",
        "    out = np.zeros((n, vals))\n",
        "    out[range(n), vec] = 1\n",
        "    return out"
      ],
      "execution_count": 0,
      "outputs": []
    },
    {
      "metadata": {
        "id": "AKDzwxk55_NH",
        "colab_type": "code",
        "colab": {}
      },
      "cell_type": "code",
      "source": [
        "# Cifar helper function includes setting up the training and test images and providing the next batch\n",
        "class CifarHelper():\n",
        "    def __init__(self):\n",
        "        self.i = 0\n",
        "        \n",
        "        self.training_set = [batch_1, batch_2, batch_3, batch_4, batch_5]\n",
        "        \n",
        "        self.test_set = [batch_test]\n",
        "        \n",
        "        self.train_images = None\n",
        "        self.train_labels = None\n",
        "        \n",
        "        self.test_images = None\n",
        "        self.test_labels = None\n",
        "        \n",
        "    def set_images(self):\n",
        "        # stacking the images vertical\n",
        "        self.train_images = np.vstack([batch[b'data'] for batch in self.training_set])\n",
        "        train_len = len(self.train_images)\n",
        "        \n",
        "        # reshaping the images in the training set and then transposing it\n",
        "        self.train_images = self.train_images.reshape(train_len, 3, 32, 32).transpose(0, 2, 3, 1)/255\n",
        "        \n",
        "        # one hot encoding the train labels\n",
        "        self.train_labels = one_hot_encode(np.hstack([batch[b'labels'] for batch in self.training_set]), 10)\n",
        "        \n",
        "        # Vertically stacking the test images\n",
        "        self.test_images = np.vstack([j[b'data'] for j in self.test_set])\n",
        "        test_len = len(self.test_images)\n",
        "        \n",
        "        # Reshaping the test images and then transposing the array\n",
        "        self.test_images = self.test_images.reshape(test_len, 3, 32, 32).transpose(0, 2, 3, 1)/255\n",
        "        \n",
        "        # one hot encoding the test labels\n",
        "        self.test_labels = one_hot_encode(np.hstack([j[b'labels'] for j in self.test_set]), 10)\n",
        "        \n",
        "    def next_batch(self, batch_size):\n",
        "        x = self.train_images[self.i : self.i + batch_size].reshape(100, 32, 32, 3)\n",
        "        y = self.train_labels[self.i : self.i + batch_size]\n",
        "        self.i = (self.i + batch_size) % len(self.train_images)\n",
        "        return x,y"
      ],
      "execution_count": 0,
      "outputs": []
    },
    {
      "metadata": {
        "id": "akxRVpBK6Bue",
        "colab_type": "code",
        "colab": {}
      },
      "cell_type": "code",
      "source": [
        "ch = CifarHelper()"
      ],
      "execution_count": 0,
      "outputs": []
    },
    {
      "metadata": {
        "id": "j4_Z-lVi6EAP",
        "colab_type": "code",
        "colab": {}
      },
      "cell_type": "code",
      "source": [
        "ch.set_images()"
      ],
      "execution_count": 0,
      "outputs": []
    },
    {
      "metadata": {
        "id": "DK4seu376GzS",
        "colab_type": "text"
      },
      "cell_type": "markdown",
      "source": [
        "##Creating the model"
      ]
    },
    {
      "metadata": {
        "id": "r9kKffvn6PS6",
        "colab_type": "code",
        "colab": {}
      },
      "cell_type": "code",
      "source": [
        "import tensorflow as tf"
      ],
      "execution_count": 0,
      "outputs": []
    },
    {
      "metadata": {
        "id": "lcK2GRgL6TW4",
        "colab_type": "code",
        "colab": {}
      },
      "cell_type": "code",
      "source": [
        "X = tf.placeholder(tf.float32, shape = [None, 32, 32, 3])"
      ],
      "execution_count": 0,
      "outputs": []
    },
    {
      "metadata": {
        "id": "zF39wGVw6U6T",
        "colab_type": "code",
        "colab": {}
      },
      "cell_type": "code",
      "source": [
        "y_true = tf.placeholder(tf.float32, shape = [None, 10])"
      ],
      "execution_count": 0,
      "outputs": []
    },
    {
      "metadata": {
        "id": "yJvXKGqc6WdJ",
        "colab_type": "code",
        "colab": {}
      },
      "cell_type": "code",
      "source": [
        "hold_prob = tf.placeholder(tf.float32)"
      ],
      "execution_count": 0,
      "outputs": []
    },
    {
      "metadata": {
        "id": "n6tokkRh6cKE",
        "colab_type": "text"
      },
      "cell_type": "markdown",
      "source": [
        "### Helper functions for the model"
      ]
    },
    {
      "metadata": {
        "id": "x6XnBE5a6pVE",
        "colab_type": "code",
        "colab": {}
      },
      "cell_type": "code",
      "source": [
        "def init_weights(shape):\n",
        "    rand_weights = tf.truncated_normal(shape = shape, stddev = 1.0)\n",
        "    return tf.Variable(rand_weights)"
      ],
      "execution_count": 0,
      "outputs": []
    },
    {
      "metadata": {
        "id": "a6Wa19SD6tjS",
        "colab_type": "code",
        "colab": {}
      },
      "cell_type": "code",
      "source": [
        "def init_bias(shape):\n",
        "    bias = tf.constant(0.1, dtype = tf.float32, shape = shape)\n",
        "    return tf.Variable(bias)"
      ],
      "execution_count": 0,
      "outputs": []
    },
    {
      "metadata": {
        "id": "1CQlodry6vfL",
        "colab_type": "code",
        "colab": {}
      },
      "cell_type": "code",
      "source": [
        "def conv2d(x, W):\n",
        "    return tf.nn.conv2d(x, W, strides = [1, 1, 1, 1], padding = 'SAME')"
      ],
      "execution_count": 0,
      "outputs": []
    },
    {
      "metadata": {
        "id": "--kqQjJE6x2M",
        "colab_type": "code",
        "colab": {}
      },
      "cell_type": "code",
      "source": [
        "def max_pool_2by2(input_layer):\n",
        "    return tf.nn.max_pool(input_layer, ksize = [1, 2, 2, 1], strides = [1, 2, 2, 1], padding = 'SAME')"
      ],
      "execution_count": 0,
      "outputs": []
    },
    {
      "metadata": {
        "id": "tp3uNWm-60f7",
        "colab_type": "code",
        "colab": {}
      },
      "cell_type": "code",
      "source": [
        "def convolutional_layer(input_X, shape):\n",
        "    W = init_weights(shape)\n",
        "    b = init_bias([shape[3]])\n",
        "    return tf.nn.relu(conv2d(input_X, W) + b)"
      ],
      "execution_count": 0,
      "outputs": []
    },
    {
      "metadata": {
        "id": "5CUXycCf62tm",
        "colab_type": "code",
        "colab": {}
      },
      "cell_type": "code",
      "source": [
        "def normal_full_layer(input_layer, size):\n",
        "    shape = input_layer.get_shape().as_list()[1]\n",
        "    W = init_weights([shape, size])\n",
        "    b = init_bias([size])\n",
        "    return tf.matmul(input_layer, W) + b"
      ],
      "execution_count": 0,
      "outputs": []
    },
    {
      "metadata": {
        "id": "HRleqW_c64Mm",
        "colab_type": "code",
        "colab": {}
      },
      "cell_type": "code",
      "source": [
        "# starting the model\n",
        "\n",
        "# 1st convolutional layer\n",
        "convo_1 = convolutional_layer(X, shape = [4, 4, 3, 32])\n",
        "convo_1_pooled = max_pool_2by2(convo_1)"
      ],
      "execution_count": 0,
      "outputs": []
    },
    {
      "metadata": {
        "id": "qmtH8xk565su",
        "colab_type": "code",
        "colab": {}
      },
      "cell_type": "code",
      "source": [
        "# 2nd convolutional layer\n",
        "convo_2 = convolutional_layer(convo_1_pooled, shape = [4, 4, 32, 64])\n",
        "convo_2_pooled = max_pool_2by2(convo_2)"
      ],
      "execution_count": 0,
      "outputs": []
    },
    {
      "metadata": {
        "id": "napsO0O2673g",
        "colab_type": "code",
        "colab": {}
      },
      "cell_type": "code",
      "source": [
        "# Now comes the falttening layer\n",
        "convo_2_flat = tf.reshape(convo_2_pooled, [-1, 8*8*64])"
      ],
      "execution_count": 0,
      "outputs": []
    },
    {
      "metadata": {
        "id": "0AoL-GqW690g",
        "colab_type": "code",
        "colab": {}
      },
      "cell_type": "code",
      "source": [
        "# Normal fully connected layer\n",
        "full_layer = tf.nn.relu(normal_full_layer(convo_2_flat, size = 1024))"
      ],
      "execution_count": 0,
      "outputs": []
    },
    {
      "metadata": {
        "id": "BpQ2xEri6_IA",
        "colab_type": "code",
        "colab": {}
      },
      "cell_type": "code",
      "source": [
        "# dropout layer\n",
        "full_drop_layer = tf.nn.dropout(full_layer, keep_prob = hold_prob)"
      ],
      "execution_count": 0,
      "outputs": []
    },
    {
      "metadata": {
        "id": "OvK4u_N67AYl",
        "colab_type": "code",
        "colab": {}
      },
      "cell_type": "code",
      "source": [
        "# predicting the labels\n",
        "y_pred = normal_full_layer(full_drop_layer, size = 10)"
      ],
      "execution_count": 0,
      "outputs": []
    },
    {
      "metadata": {
        "id": "sThOscBi7BuJ",
        "colab_type": "code",
        "colab": {}
      },
      "cell_type": "code",
      "source": [
        "# loss function\n",
        "cross_entropy = tf.reduce_mean(tf.nn.softmax_cross_entropy_with_logits_v2(labels = y_true, logits = y_pred))"
      ],
      "execution_count": 0,
      "outputs": []
    },
    {
      "metadata": {
        "id": "a4wlSd_r7DNZ",
        "colab_type": "code",
        "colab": {}
      },
      "cell_type": "code",
      "source": [
        "# setting up the optimizer\n",
        "optimizer = tf.train.AdamOptimizer(learning_rate = 0.001)"
      ],
      "execution_count": 0,
      "outputs": []
    },
    {
      "metadata": {
        "id": "pjjXjU767FzQ",
        "colab_type": "code",
        "colab": {}
      },
      "cell_type": "code",
      "source": [
        "train = optimizer.minimize(cross_entropy)"
      ],
      "execution_count": 0,
      "outputs": []
    },
    {
      "metadata": {
        "id": "Tt47H_yK7HJ9",
        "colab_type": "code",
        "colab": {}
      },
      "cell_type": "code",
      "source": [
        "init = tf.global_variables_initializer()"
      ],
      "execution_count": 0,
      "outputs": []
    },
    {
      "metadata": {
        "id": "4A0xulzPZMOn",
        "colab_type": "code",
        "colab": {}
      },
      "cell_type": "code",
      "source": [
        "gpu_options = tf.GPUOptions(allow_growth=True)"
      ],
      "execution_count": 0,
      "outputs": []
    },
    {
      "metadata": {
        "id": "2bgdlfpE7Icu",
        "colab_type": "code",
        "colab": {
          "base_uri": "https://localhost:8080/",
          "height": 2554
        },
        "outputId": "14a181fe-d63a-4c32-ce7d-eb64351f9808"
      },
      "cell_type": "code",
      "source": [
        "# Graph Session\n",
        "\n",
        "accuracies = []\n",
        "with tf.Session(config=tf.ConfigProto(gpu_options=gpu_options)) as sess:\n",
        "    sess.run(init)\n",
        "    \n",
        "    for step in range(5000):\n",
        "        #Training the model\n",
        "        batch_X, batch_y = ch.next_batch(100)\n",
        "        sess.run(train, feed_dict = {X : batch_X, y_true: batch_y, hold_prob: 1.0})\n",
        "\n",
        "        if(step % 100 == 0):\n",
        "            print('Currently on step: {}'.format(step))\n",
        "            print('Accuracy :')\n",
        "            # Testing the model\n",
        "            equals = [tf.equal(tf.argmax(y_true, 1), tf.argmax(y_pred, 1))]\n",
        "            acc = tf.reduce_mean(tf.cast(equals, dtype = tf.float32))\n",
        "        \n",
        "            result= sess.run(acc, feed_dict = {X: ch.test_images, y_true: ch.test_labels, hold_prob: 1.0})\n",
        "            accuracies.append(result)\n",
        "            print(result)\n",
        "            \n",
        "    avg_accuracy = sum(accuracies)/len(accuracies)\n",
        "    print('Average Accuracy: {}'.format(avg_accuracy))"
      ],
      "execution_count": 76,
      "outputs": [
        {
          "output_type": "stream",
          "text": [
            "Currently on step: 0\n",
            "Accuracy :\n",
            "0.1\n",
            "Currently on step: 100\n",
            "Accuracy :\n",
            "0.2305\n",
            "Currently on step: 200\n",
            "Accuracy :\n",
            "0.2736\n",
            "Currently on step: 300\n",
            "Accuracy :\n",
            "0.3101\n",
            "Currently on step: 400\n",
            "Accuracy :\n",
            "0.3251\n",
            "Currently on step: 500\n",
            "Accuracy :\n",
            "0.3459\n",
            "Currently on step: 600\n",
            "Accuracy :\n",
            "0.3421\n",
            "Currently on step: 700\n",
            "Accuracy :\n",
            "0.3501\n",
            "Currently on step: 800\n",
            "Accuracy :\n",
            "0.3694\n",
            "Currently on step: 900\n",
            "Accuracy :\n",
            "0.3791\n",
            "Currently on step: 1000\n",
            "Accuracy :\n",
            "0.3779\n",
            "Currently on step: 1100\n",
            "Accuracy :\n",
            "0.389\n",
            "Currently on step: 1200\n",
            "Accuracy :\n",
            "0.391\n",
            "Currently on step: 1300\n",
            "Accuracy :\n",
            "0.398\n",
            "Currently on step: 1400\n",
            "Accuracy :\n",
            "0.4085\n",
            "Currently on step: 1500\n",
            "Accuracy :\n",
            "0.3985\n",
            "Currently on step: 1600\n",
            "Accuracy :\n",
            "0.4109\n",
            "Currently on step: 1700\n",
            "Accuracy :\n",
            "0.4134\n",
            "Currently on step: 1800\n",
            "Accuracy :\n",
            "0.4238\n",
            "Currently on step: 1900\n",
            "Accuracy :\n",
            "0.4191\n",
            "Currently on step: 2000\n",
            "Accuracy :\n",
            "0.4112\n",
            "Currently on step: 2100\n",
            "Accuracy :\n",
            "0.4233\n",
            "Currently on step: 2200\n",
            "Accuracy :\n",
            "0.4229\n",
            "Currently on step: 2300\n",
            "Accuracy :\n",
            "0.4332\n",
            "Currently on step: 2400\n",
            "Accuracy :\n",
            "0.4291\n",
            "Currently on step: 2500\n",
            "Accuracy :\n",
            "0.4201\n",
            "Currently on step: 2600\n",
            "Accuracy :\n",
            "0.4326\n",
            "Currently on step: 2700\n",
            "Accuracy :\n",
            "0.4314\n",
            "Currently on step: 2800\n",
            "Accuracy :\n",
            "0.4381\n",
            "Currently on step: 2900\n",
            "Accuracy :\n",
            "0.4353\n",
            "Currently on step: 3000\n",
            "Accuracy :\n",
            "0.4289\n",
            "Currently on step: 3100\n",
            "Accuracy :\n",
            "0.4407\n",
            "Currently on step: 3200\n",
            "Accuracy :\n",
            "0.4434\n",
            "Currently on step: 3300\n",
            "Accuracy :\n",
            "0.4465\n",
            "Currently on step: 3400\n",
            "Accuracy :\n",
            "0.4368\n",
            "Currently on step: 3500\n",
            "Accuracy :\n",
            "0.4395\n",
            "Currently on step: 3600\n",
            "Accuracy :\n",
            "0.4463\n",
            "Currently on step: 3700\n",
            "Accuracy :\n",
            "0.4552\n",
            "Currently on step: 3800\n",
            "Accuracy :\n",
            "0.453\n",
            "Currently on step: 3900\n",
            "Accuracy :\n",
            "0.451\n",
            "Currently on step: 4000\n",
            "Accuracy :\n",
            "0.4477\n",
            "Currently on step: 4100\n",
            "Accuracy :\n",
            "0.4503\n",
            "Currently on step: 4200\n",
            "Accuracy :\n",
            "0.4538\n",
            "Currently on step: 4300\n",
            "Accuracy :\n",
            "0.4554\n",
            "Currently on step: 4400\n",
            "Accuracy :\n",
            "0.4575\n",
            "Currently on step: 4500\n",
            "Accuracy :\n",
            "0.4566\n",
            "Currently on step: 4600\n",
            "Accuracy :\n",
            "0.4525\n",
            "Currently on step: 4700\n",
            "Accuracy :\n",
            "0.4587\n",
            "Currently on step: 4800\n",
            "Accuracy :\n",
            "0.4632\n",
            "Currently on step: 4900\n",
            "Accuracy :\n",
            "0.4636\n",
            "Average Accuracy: 0.40667599901556967\n"
          ],
          "name": "stdout"
        }
      ]
    },
    {
      "metadata": {
        "id": "H3J43TZR7pKJ",
        "colab_type": "code",
        "colab": {}
      },
      "cell_type": "code",
      "source": [
        ""
      ],
      "execution_count": 0,
      "outputs": []
    }
  ]
}